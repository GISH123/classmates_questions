{
 "cells": [
  {
   "cell_type": "code",
   "execution_count": 3,
   "metadata": {},
   "outputs": [],
   "source": [
    "emphasis1 = \"a\"\n",
    "str1 = \"I am a idiot.\""
   ]
  },
  {
   "cell_type": "code",
   "execution_count": 5,
   "metadata": {},
   "outputs": [],
   "source": [
    "import re"
   ]
  },
  {
   "cell_type": "code",
   "execution_count": 7,
   "metadata": {},
   "outputs": [],
   "source": [
    "# 測試能不能切\n",
    "split_sentences = re.split(', | |\\n',str2)"
   ]
  },
  {
   "cell_type": "code",
   "execution_count": 8,
   "metadata": {
    "scrolled": true
   },
   "outputs": [
    {
     "data": {
      "text/plain": [
       "['So',\n",
       " \"don't\",\n",
       " 'you',\n",
       " 'worry',\n",
       " 'your',\n",
       " 'pretty',\n",
       " 'little',\n",
       " 'mind',\n",
       " 'People',\n",
       " 'throw',\n",
       " 'rocks',\n",
       " 'at',\n",
       " 'things',\n",
       " 'that',\n",
       " 'shine']"
      ]
     },
     "execution_count": 8,
     "metadata": {},
     "output_type": "execute_result"
    }
   ],
   "source": [
    "split_sentences"
   ]
  },
  {
   "cell_type": "code",
   "execution_count": null,
   "metadata": {},
   "outputs": [],
   "source": [
    "# def emphasis_first_character(emphasis,sentence):\n",
    "#     split_sentences = re.split('; |, |\\*|\\n',sentence)"
   ]
  },
  {
   "cell_type": "code",
   "execution_count": 16,
   "metadata": {
    "scrolled": true
   },
   "outputs": [
    {
     "name": "stdout",
     "output_type": "stream",
     "text": [
      "3\n",
      "d\n",
      "9\n",
      "y\n",
      "13\n",
      "w\n",
      "19\n",
      "y\n",
      "24\n",
      "p\n",
      "31\n",
      "l\n",
      "38\n",
      "m\n",
      "44\n",
      "P\n",
      "51\n",
      "t\n",
      "57\n",
      "r\n",
      "63\n",
      "a\n",
      "66\n",
      "t\n",
      "73\n",
      "t\n",
      "78\n",
      "s\n"
     ]
    }
   ],
   "source": [
    "#測試找出空格前的字母\n",
    "for i, element in enumerate(str2):\n",
    "    if element == \" \":\n",
    "        print(i+1)\n",
    "        print(str2[i+1])"
   ]
  },
  {
   "cell_type": "code",
   "execution_count": 29,
   "metadata": {},
   "outputs": [],
   "source": [
    "#下google 關鍵字(list character to string python) 找到的方法\n",
    "def convert(s): \n",
    "  \n",
    "    # initialization of string to \"\" \n",
    "    new = \"\" \n",
    "  \n",
    "    # traverse in the string  \n",
    "    for x in s: \n",
    "        new += x  \n",
    "  \n",
    "    # return string  \n",
    "    return new "
   ]
  },
  {
   "cell_type": "code",
   "execution_count": 30,
   "metadata": {},
   "outputs": [],
   "source": [
    "def emphasis_first_character(emphasis,sentence):\n",
    "    output = list(sentence)#initialize output 建立一個字串的list當作輸出\n",
    "    for i, element in enumerate(sentence):\n",
    "        if element == \" \":\n",
    "            if sentence[i+1] == emphasis:\n",
    "                output[i+1] = emphasis.upper()\n",
    "    #開始把list裡面的元素回歸成字串\n",
    "    return convert(output)\n",
    "    \n",
    "    "
   ]
  },
  {
   "cell_type": "code",
   "execution_count": 31,
   "metadata": {},
   "outputs": [],
   "source": [
    "emphasis2 = \"y\"\n",
    "str2 = \"So don\\'t you worry your pretty little mind, People throw rocks at things that shine\""
   ]
  },
  {
   "cell_type": "code",
   "execution_count": 32,
   "metadata": {},
   "outputs": [
    {
     "data": {
      "text/plain": [
       "\"So don't You worry Your pretty little mind, People throw rocks at things that shine\""
      ]
     },
     "execution_count": 32,
     "metadata": {},
     "output_type": "execute_result"
    }
   ],
   "source": [
    "emphasis_first_character(emphasis2,str2)"
   ]
  }
 ],
 "metadata": {
  "kernelspec": {
   "display_name": "Python 3",
   "language": "python",
   "name": "python3"
  },
  "language_info": {
   "codemirror_mode": {
    "name": "ipython",
    "version": 3
   },
   "file_extension": ".py",
   "mimetype": "text/x-python",
   "name": "python",
   "nbconvert_exporter": "python",
   "pygments_lexer": "ipython3",
   "version": "3.7.3"
  }
 },
 "nbformat": 4,
 "nbformat_minor": 2
}
